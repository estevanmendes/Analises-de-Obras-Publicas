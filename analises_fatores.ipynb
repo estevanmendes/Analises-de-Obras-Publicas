{
 "cells": [
  {
   "cell_type": "code",
   "execution_count": 2,
   "metadata": {},
   "outputs": [],
   "source": [
    "import pandas as pd\n",
    "import matplotlib.pyplot as plt\n",
    "import numpy as np\n",
    "import seaborn as sns"
   ]
  },
  {
   "cell_type": "code",
   "execution_count": 3,
   "metadata": {},
   "outputs": [],
   "source": [
    "df0=pd.read_csv('siconv_plano_aplicacao_detalhado.csv',sep=';',usecols=['ID_PROPOSTA','TIPO_DESPESA_ITEM'])"
   ]
  },
  {
   "cell_type": "code",
   "execution_count": 4,
   "metadata": {},
   "outputs": [],
   "source": [
    "df0=df0.drop(df0[(df0.TIPO_DESPESA_ITEM!='OBRA')].index)"
   ]
  },
  {
   "cell_type": "code",
   "execution_count": 5,
   "metadata": {},
   "outputs": [],
   "source": [
    "df0.drop_duplicates(subset='ID_PROPOSTA',inplace=True)"
   ]
  },
  {
   "cell_type": "code",
   "execution_count": 6,
   "metadata": {
    "slideshow": {
     "slide_type": "subslide"
    }
   },
   "outputs": [],
   "source": [
    "df1=pd.read_csv('siconv_convenio.csv',sep=';',thousands='.', decimal=',',usecols=['NR_CONVENIO','ID_PROPOSTA','MES','ANO','DIA_FIM_VIGENC_CONV','DIA_FIM_VIGENC_ORIGINAL_CONV','DIA_INIC_VIGENC_CONV','VL_GLOBAL_CONV','VL_CONTRAPARTIDA_CONV'])"
   ]
  },
  {
   "cell_type": "code",
   "execution_count": 7,
   "metadata": {},
   "outputs": [],
   "source": [
    "df1=df1.merge(df0,on='ID_PROPOSTA')#planilha só com obras"
   ]
  },
  {
   "cell_type": "code",
   "execution_count": 8,
   "metadata": {},
   "outputs": [
    {
     "name": "stdout",
     "output_type": "stream",
     "text": [
      "<class 'pandas.core.frame.DataFrame'>\n",
      "Int64Index: 93894 entries, 0 to 93893\n",
      "Data columns (total 10 columns):\n",
      "NR_CONVENIO                     93894 non-null int64\n",
      "ID_PROPOSTA                     93894 non-null int64\n",
      "MES                             81332 non-null float64\n",
      "ANO                             81332 non-null float64\n",
      "DIA_INIC_VIGENC_CONV            93894 non-null object\n",
      "DIA_FIM_VIGENC_CONV             93894 non-null object\n",
      "DIA_FIM_VIGENC_ORIGINAL_CONV    93894 non-null object\n",
      "VL_GLOBAL_CONV                  93894 non-null float64\n",
      "VL_CONTRAPARTIDA_CONV           93894 non-null float64\n",
      "TIPO_DESPESA_ITEM               93894 non-null object\n",
      "dtypes: float64(4), int64(2), object(4)\n",
      "memory usage: 7.9+ MB\n"
     ]
    }
   ],
   "source": [
    "df1.info()"
   ]
  },
  {
   "cell_type": "code",
   "execution_count": 9,
   "metadata": {},
   "outputs": [],
   "source": [
    "df1[list(df1.filter(like='DIA'))]=df1[list(df1.filter(like='DIA'))].apply(pd.to_datetime,format='%d/%m/%Y')"
   ]
  },
  {
   "cell_type": "code",
   "execution_count": 10,
   "metadata": {},
   "outputs": [],
   "source": [
    "df2=pd.read_csv('siconv_proposta.csv',sep=';',usecols=['ID_PROPOSTA','UF_PROPONENTE','COD_MUNIC_IBGE'])"
   ]
  },
  {
   "cell_type": "code",
   "execution_count": 11,
   "metadata": {},
   "outputs": [],
   "source": [
    "df3=pd.merge(df1,df2,on='ID_PROPOSTA')"
   ]
  },
  {
   "cell_type": "code",
   "execution_count": 12,
   "metadata": {},
   "outputs": [],
   "source": [
    "df4=df3[(df3.DIA_FIM_VIGENC_CONV>df3.DIA_FIM_VIGENC_ORIGINAL_CONV)]"
   ]
  },
  {
   "cell_type": "code",
   "execution_count": 13,
   "metadata": {},
   "outputs": [
    {
     "name": "stdout",
     "output_type": "stream",
     "text": [
      "<class 'pandas.core.frame.DataFrame'>\n",
      "Int64Index: 49550 entries, 10 to 93748\n",
      "Data columns (total 12 columns):\n",
      "NR_CONVENIO                     49550 non-null int64\n",
      "ID_PROPOSTA                     49550 non-null int64\n",
      "MES                             49548 non-null float64\n",
      "ANO                             49548 non-null float64\n",
      "DIA_INIC_VIGENC_CONV            49550 non-null datetime64[ns]\n",
      "DIA_FIM_VIGENC_CONV             49550 non-null datetime64[ns]\n",
      "DIA_FIM_VIGENC_ORIGINAL_CONV    49550 non-null datetime64[ns]\n",
      "VL_GLOBAL_CONV                  49550 non-null float64\n",
      "VL_CONTRAPARTIDA_CONV           49550 non-null float64\n",
      "TIPO_DESPESA_ITEM               49550 non-null object\n",
      "UF_PROPONENTE                   49550 non-null object\n",
      "COD_MUNIC_IBGE                  49550 non-null int64\n",
      "dtypes: datetime64[ns](3), float64(4), int64(3), object(2)\n",
      "memory usage: 4.9+ MB\n"
     ]
    }
   ],
   "source": [
    "df4.info()"
   ]
  },
  {
   "cell_type": "code",
   "execution_count": 14,
   "metadata": {},
   "outputs": [
    {
     "data": {
      "image/png": "[encoded data removed]",
      "text/plain": [
       "<Figure size 432x288 with 1 Axes>"
      ]
     },
     "metadata": {
      "needs_background": "light"
     },
     "output_type": "display_data"
    }
   ],
   "source": [
    "NUM_ABS_UF=(df4.groupby(['UF_PROPONENTE']).size())\n",
    "NUM_ABS_UF.plot(kind='bar')\n",
    "plt.hlines(NUM_ABS_UF.mean(),-1,len(NUM_ABS_UF),linestyles='dashed',label='Média')\n",
    "plt.ylabel('Numero_Obras_Atradas')\n",
    "plt.title('Espacialização das Obras Atrasadas')\n",
    "plt.ylabel('Numero_Obras_Atradas')\n",
    "plt.title('Espacialização das Obras Atrasadas')\n",
    "plt.legend(loc=2)\n",
    "plt.savefig('OBRAS_ATRASADO_POR_UF.png')"
   ]
  },
  {
   "cell_type": "code",
   "execution_count": 15,
   "metadata": {},
   "outputs": [],
   "source": [
    "NUM_TOT_UF=(df3.groupby(['UF_PROPONENTE']).size())"
   ]
  },
  {
   "cell_type": "code",
   "execution_count": 16,
   "metadata": {},
   "outputs": [
    {
     "data": {
      "text/plain": [
       "Index(['AC', 'AL', 'AM', 'AP', 'BA', 'CE', 'DF', 'ES', 'GO', 'MA', 'MG', 'MS',\n",
       "       'MT', 'PA', 'PB', 'PE', 'PI', 'PR', 'RJ', 'RN', 'RO', 'RR', 'RS', 'SC',\n",
       "       'SE', 'SP', 'TO'],\n",
       "      dtype='object', name='UF_PROPONENTE')"
      ]
     },
     "execution_count": 16,
     "metadata": {},
     "output_type": "execute_result"
    }
   ],
   "source": [
    "NUM_TOT_UF.index"
   ]
  },
  {
   "cell_type": "code",
   "execution_count": 17,
   "metadata": {},
   "outputs": [
    {
     "data": {
      "image/png": "[encoded data removed]",
      "text/plain": [
       "<Figure size 432x288 with 1 Axes>"
      ]
     },
     "metadata": {
      "needs_background": "light"
     },
     "output_type": "display_data"
    }
   ],
   "source": [
    "NUM_REL_UF=NUM_ABS_UF.div(NUM_TOT_UF)\n",
    "NUM_REL_UF.plot(kind='bar',label='DADOS')\n",
    "plt.hlines(NUM_REL_UF.mean(),-1,len(NUM_REL_UF),label='Média')\n",
    "plt.ylabel('Fracao_Obras_Atradas')\n",
    "plt.title('Espacialização das Obras Atrasadas')\n",
    "plt.legend(loc=2)\n",
    "plt.savefig('OBRAS_ATRASADO_REL_POR_UF.png')"
   ]
  },
  {
   "cell_type": "code",
   "execution_count": 18,
   "metadata": {},
   "outputs": [
    {
     "name": "stdout",
     "output_type": "stream",
     "text": [
      "0.7899300993969853 [2008. 2009. 2010. 2011. 2012. 2013. 2014. 2015. 2016.] [0.7899301 0.7899301 0.7899301 0.7899301 0.7899301 0.7899301 0.7899301\n",
      " 0.7899301 0.7899301]\n"
     ]
    },
    {
     "data": {
      "image/png": "[encoded data removed]",
      "text/plain": [
       "<Figure size 432x288 with 1 Axes>"
      ]
     },
     "metadata": {
      "needs_background": "light"
     },
     "output_type": "display_data"
    }
   ],
   "source": [
    "NUM_REL_ANO=df4.groupby(['ANO']).size().div(df3.groupby(['ANO']).size())\n",
    "NUM_REL_ANO.plot(label='DADOS',marker='o')\n",
    "temp1=np.asarray(NUM_REL_ANO.index)\n",
    "temp2=np.asarray(NUM_REL_ANO)\n",
    "temp2=np.full(len(temp2),np.mean(temp2[0:-4]))\n",
    "temp2=temp2.flatten()\n",
    "plt.plot(temp1,temp2,label='Média 2008-2017',linestyle='dashed',color='black')\n",
    "plt.ylabel('Fracao_Obras_Atradas')\n",
    "plt.title('Obras Atrasadas Por Ano de Inicio')\n",
    "plt.legend()\n",
    "plt.savefig('OBRAS_ATRASADO_REL_POR_ANO.png')\n",
    "print(np.mean(temp2[0:-4]),temp1[0:-4],np.full(len(temp1[0:-4]),np.mean(temp2[0:-4])))"
   ]
  },
  {
   "cell_type": "code",
   "execution_count": 19,
   "metadata": {},
   "outputs": [
    {
     "name": "stderr",
     "output_type": "stream",
     "text": [
      "/home/estevan/anaconda3/lib/python3.7/site-packages/ipykernel_launcher.py:1: SettingWithCopyWarning: \n",
      "A value is trying to be set on a copy of a slice from a DataFrame.\n",
      "Try using .loc[row_indexer,col_indexer] = value instead\n",
      "\n",
      "See the caveats in the documentation: http://pandas.pydata.org/pandas-docs/stable/indexing.html#indexing-view-versus-copy\n",
      "  \"\"\"Entry point for launching an IPython kernel.\n",
      "/home/estevan/anaconda3/lib/python3.7/site-packages/ipykernel_launcher.py:2: SettingWithCopyWarning: \n",
      "A value is trying to be set on a copy of a slice from a DataFrame.\n",
      "Try using .loc[row_indexer,col_indexer] = value instead\n",
      "\n",
      "See the caveats in the documentation: http://pandas.pydata.org/pandas-docs/stable/indexing.html#indexing-view-versus-copy\n",
      "  \n",
      "/home/estevan/anaconda3/lib/python3.7/site-packages/ipykernel_launcher.py:3: SettingWithCopyWarning: \n",
      "A value is trying to be set on a copy of a slice from a DataFrame.\n",
      "Try using .loc[row_indexer,col_indexer] = value instead\n",
      "\n",
      "See the caveats in the documentation: http://pandas.pydata.org/pandas-docs/stable/indexing.html#indexing-view-versus-copy\n",
      "  This is separate from the ipykernel package so we can avoid doing imports until\n",
      "/home/estevan/anaconda3/lib/python3.7/site-packages/ipykernel_launcher.py:4: SettingWithCopyWarning: \n",
      "A value is trying to be set on a copy of a slice from a DataFrame.\n",
      "Try using .loc[row_indexer,col_indexer] = value instead\n",
      "\n",
      "See the caveats in the documentation: http://pandas.pydata.org/pandas-docs/stable/indexing.html#indexing-view-versus-copy\n",
      "  after removing the cwd from sys.path.\n",
      "/home/estevan/anaconda3/lib/python3.7/site-packages/ipykernel_launcher.py:5: SettingWithCopyWarning: \n",
      "A value is trying to be set on a copy of a slice from a DataFrame.\n",
      "Try using .loc[row_indexer,col_indexer] = value instead\n",
      "\n",
      "See the caveats in the documentation: http://pandas.pydata.org/pandas-docs/stable/indexing.html#indexing-view-versus-copy\n",
      "  \"\"\"\n"
     ]
    }
   ],
   "source": [
    "df4['DIAS_ATRASO_INT']=df4.DIA_FIM_VIGENC_CONV-df4.DIA_FIM_VIGENC_ORIGINAL_CONV\n",
    "df4['DIAS_ATRASO_INT']=pd.to_numeric(df4['DIAS_ATRASO_INT'].dt.days)\n",
    "df4['DIAS_OBRA_INT']=df4.DIA_FIM_VIGENC_ORIGINAL_CONV-df4.DIA_INIC_VIGENC_CONV\n",
    "df4['DIAS_OBRA_INT']=pd.to_numeric(df4.DIAS_OBRA_INT.dt.days)\n",
    "df4['DIAS_ATRASO_REL']=df4['DIAS_ATRASO_INT']/df4['DIAS_OBRA_INT']"
   ]
  },
  {
   "cell_type": "code",
   "execution_count": 20,
   "metadata": {},
   "outputs": [
    {
     "data": {
      "image/png": "[encoded data removed]",
      "text/plain": [
       "<Figure size 432x288 with 1 Axes>"
      ]
     },
     "metadata": {
      "needs_background": "light"
     },
     "output_type": "display_data"
    }
   ],
   "source": [
    "df4[(df4.DIAS_ATRASO_INT>0)]['DIAS_ATRASO_INT'].hist()\n",
    "plt.xlabel('DIAS ATRASADO')\n",
    "plt.ylabel('FREQUENCIA')\n",
    "plt.title('HISTOGRAMA_DIAS_ATRASO.png')\n",
    "plt.savefig('HISTOGRAMA_DIAS_ATRASADOS.png')"
   ]
  },
  {
   "cell_type": "code",
   "execution_count": 21,
   "metadata": {},
   "outputs": [
    {
     "data": {
      "image/png": "[encoded data removed]",
      "text/plain": [
       "<Figure size 432x288 with 1 Axes>"
      ]
     },
     "metadata": {
      "needs_background": "light"
     },
     "output_type": "display_data"
    }
   ],
   "source": [
    "df4[(df4.DIAS_OBRA_INT>0) & (df4.DIAS_ATRASO_REL<10)]['DIAS_ATRASO_REL'].hist()\n",
    "plt.xlabel('FRACAO DIAS ATRASO/TEMPO DA OBRA')\n",
    "plt.ylabel('FREQUENCIA')\n",
    "plt.title('HISTOGRAMA DIAS ATRASADOS RELATIVOS.png')\n",
    "plt.savefig('HISTOGRAMA_DIAS_ATRASADO_REL.png')"
   ]
  },
  {
   "cell_type": "code",
   "execution_count": 22,
   "metadata": {},
   "outputs": [
    {
     "data": {
      "image/png": "[encoded data removed]",
      "text/plain": [
       "<Figure size 432x288 with 1 Axes>"
      ]
     },
     "metadata": {
      "needs_background": "light"
     },
     "output_type": "display_data"
    }
   ],
   "source": [
    "df1[(df1.VL_GLOBAL_CONV<10**6)]['VL_GLOBAL_CONV'].hist()\n",
    "df4[(df4.VL_GLOBAL_CONV<10**6)]['VL_GLOBAL_CONV'].hist(color='red',label='OBRAS ATRASADA')\n",
    "plt.ylabel('FREQUENCIA')\n",
    "plt.xlabel('VALOR_CONTRATO')\n",
    "plt.title('DISTRIBUIÇÂO VALORES DE CONTRATO OBRAS ATRASADAS')\n",
    "plt.legend()\n",
    "plt.savefig('HIST_OBRAS_TODOS_VALORES_CONV.png')"
   ]
  },
  {
   "cell_type": "code",
   "execution_count": 23,
   "metadata": {},
   "outputs": [
    {
     "data": {
      "image/png": "[encoded data removed]",
      "text/plain": [
       "<Figure size 432x288 with 1 Axes>"
      ]
     },
     "metadata": {
      "needs_background": "light"
     },
     "output_type": "display_data"
    }
   ],
   "source": [
    "df1[(df1.VL_GLOBAL_CONV<10**6)]['VL_GLOBAL_CONV'].hist()\n",
    "plt.ylabel('FREQUENCIA')\n",
    "plt.xlabel('VALOR_CONTRATO')\n",
    "plt.title('DISTRIBUIÇÂO VALORES DE CONTRATO OBRAS')\n",
    "plt.savefig('HIST_OBRAS_VALORES_CONV.png')"
   ]
  },
  {
   "cell_type": "code",
   "execution_count": 24,
   "metadata": {},
   "outputs": [
    {
     "data": {
      "image/png": "[encoded data removed]",
      "text/plain": [
       "<Figure size 432x288 with 1 Axes>"
      ]
     },
     "metadata": {
      "needs_background": "light"
     },
     "output_type": "display_data"
    }
   ],
   "source": [
    "df1[(df1.VL_CONTRAPARTIDA_CONV<10**5)]['VL_CONTRAPARTIDA_CONV'].hist()\n",
    "#df1.VL_CONTRAPARTIDA_CONV.describe()\n",
    "df4[(df4.VL_CONTRAPARTIDA_CONV<10**5)]['VL_CONTRAPARTIDA_CONV'].hist(label='OBRAS_ATRASADAS',color='gray')\n",
    "plt.xlabel('VALOR CONTRAPARTIDA')\n",
    "plt.ylabel('FREQUENCIA')\n",
    "plt.legend()\n",
    "plt.title('HISTOGRAMA CONTRAPARTIDA DE OBRAS PUBLICAS')\n",
    "plt.savefig('HIST_CONTRAPARTIDA_CONV.png')"
   ]
  },
  {
   "cell_type": "code",
   "execution_count": 25,
   "metadata": {},
   "outputs": [
    {
     "data": {
      "image/png": "[encoded data removed]",
      "text/plain": [
       "<Figure size 432x288 with 2 Axes>"
      ]
     },
     "metadata": {
      "needs_background": "light"
     },
     "output_type": "display_data"
    }
   ],
   "source": [
    "corr=df4[['VL_GLOBAL_CONV','VL_CONTRAPARTIDA_CONV','DIAS_ATRASO_INT','DIAS_ATRASO_REL','DIAS_OBRA_INT']].corr()\n",
    "\n",
    "sns_plot=sns.heatmap(corr, annot=True, fmt='.2f', linewidths=2)\n",
    "fig=sns_plot.get_figure()\n",
    "fig.savefig(\"CORRELACAO_VALOR_DIAS_ATRASO.png\",bbox_inches=\"tight\")\n"
   ]
  },
  {
   "cell_type": "code",
   "execution_count": 26,
   "metadata": {},
   "outputs": [],
   "source": [
    "df1.loc[(df3.DIA_FIM_VIGENC_CONV>df3.DIA_FIM_VIGENC_ORIGINAL_CONV), 'ATRASADA'] = 1\n",
    "df1.loc[(df3.DIA_FIM_VIGENC_CONV<=df3.DIA_FIM_VIGENC_ORIGINAL_CONV), 'ATRASADA'] = 0\n"
   ]
  },
  {
   "cell_type": "code",
   "execution_count": 27,
   "metadata": {},
   "outputs": [],
   "source": [
    "df1.to_csv('OBRAS_TOTAIS_ID_ATRASO.csv',index=False)\n",
    "df4.to_csv('OBRAS_ATRASADA_INFO1.csv',index=False)"
   ]
  },
  {
   "cell_type": "code",
   "execution_count": 28,
   "metadata": {},
   "outputs": [
    {
     "name": "stdout",
     "output_type": "stream",
     "text": [
      "<class 'pandas.core.frame.DataFrame'>\n",
      "Int64Index: 93894 entries, 0 to 93893\n",
      "Data columns (total 11 columns):\n",
      "NR_CONVENIO                     93894 non-null int64\n",
      "ID_PROPOSTA                     93894 non-null int64\n",
      "MES                             81332 non-null float64\n",
      "ANO                             81332 non-null float64\n",
      "DIA_INIC_VIGENC_CONV            93894 non-null datetime64[ns]\n",
      "DIA_FIM_VIGENC_CONV             93894 non-null datetime64[ns]\n",
      "DIA_FIM_VIGENC_ORIGINAL_CONV    93894 non-null datetime64[ns]\n",
      "VL_GLOBAL_CONV                  93894 non-null float64\n",
      "VL_CONTRAPARTIDA_CONV           93894 non-null float64\n",
      "TIPO_DESPESA_ITEM               93894 non-null object\n",
      "ATRASADA                        93894 non-null float64\n",
      "dtypes: datetime64[ns](3), float64(5), int64(2), object(1)\n",
      "memory usage: 8.6+ MB\n"
     ]
    }
   ],
   "source": [
    "df1.info()"
   ]
  },
  {
   "cell_type": "code",
   "execution_count": 32,
   "metadata": {},
   "outputs": [
    {
     "data": {
      "text/html": [
       "<div>\n",
       "<style scoped>\n",
       "    .dataframe tbody tr th:only-of-type {\n",
       "        vertical-align: middle;\n",
       "    }\n",
       "\n",
       "    .dataframe tbody tr th {\n",
       "        vertical-align: top;\n",
       "    }\n",
       "\n",
       "    .dataframe thead th {\n",
       "        text-align: right;\n",
       "    }\n",
       "</style>\n",
       "<table border=\"1\" class=\"dataframe\">\n",
       "  <thead>\n",
       "    <tr style=\"text-align: right;\">\n",
       "      <th>ATRASADA</th>\n",
       "      <th>0.0</th>\n",
       "      <th>1.0</th>\n",
       "    </tr>\n",
       "    <tr>\n",
       "      <th>NR_CONVENIO</th>\n",
       "      <th></th>\n",
       "      <th></th>\n",
       "    </tr>\n",
       "  </thead>\n",
       "  <tbody>\n",
       "    <tr>\n",
       "      <th>700359</th>\n",
       "      <td>NaN</td>\n",
       "      <td>18969101.28</td>\n",
       "    </tr>\n",
       "    <tr>\n",
       "      <th>700422</th>\n",
       "      <td>2310707.28</td>\n",
       "      <td>NaN</td>\n",
       "    </tr>\n",
       "    <tr>\n",
       "      <th>700490</th>\n",
       "      <td>NaN</td>\n",
       "      <td>679616.99</td>\n",
       "    </tr>\n",
       "    <tr>\n",
       "      <th>700491</th>\n",
       "      <td>NaN</td>\n",
       "      <td>213409.71</td>\n",
       "    </tr>\n",
       "    <tr>\n",
       "      <th>700494</th>\n",
       "      <td>NaN</td>\n",
       "      <td>154640.00</td>\n",
       "    </tr>\n",
       "    <tr>\n",
       "      <th>700496</th>\n",
       "      <td>NaN</td>\n",
       "      <td>103744.00</td>\n",
       "    </tr>\n",
       "    <tr>\n",
       "      <th>700497</th>\n",
       "      <td>NaN</td>\n",
       "      <td>268387.89</td>\n",
       "    </tr>\n",
       "    <tr>\n",
       "      <th>700513</th>\n",
       "      <td>353535.35</td>\n",
       "      <td>NaN</td>\n",
       "    </tr>\n",
       "    <tr>\n",
       "      <th>700516</th>\n",
       "      <td>404040.40</td>\n",
       "      <td>NaN</td>\n",
       "    </tr>\n",
       "    <tr>\n",
       "      <th>700518</th>\n",
       "      <td>NaN</td>\n",
       "      <td>422640.99</td>\n",
       "    </tr>\n",
       "    <tr>\n",
       "      <th>700525</th>\n",
       "      <td>NaN</td>\n",
       "      <td>24328235.45</td>\n",
       "    </tr>\n",
       "    <tr>\n",
       "      <th>700534</th>\n",
       "      <td>NaN</td>\n",
       "      <td>206938.36</td>\n",
       "    </tr>\n",
       "    <tr>\n",
       "      <th>700555</th>\n",
       "      <td>435982.00</td>\n",
       "      <td>NaN</td>\n",
       "    </tr>\n",
       "    <tr>\n",
       "      <th>700558</th>\n",
       "      <td>NaN</td>\n",
       "      <td>149878.00</td>\n",
       "    </tr>\n",
       "    <tr>\n",
       "      <th>700617</th>\n",
       "      <td>105000.00</td>\n",
       "      <td>NaN</td>\n",
       "    </tr>\n",
       "    <tr>\n",
       "      <th>700626</th>\n",
       "      <td>421052.63</td>\n",
       "      <td>NaN</td>\n",
       "    </tr>\n",
       "    <tr>\n",
       "      <th>700627</th>\n",
       "      <td>NaN</td>\n",
       "      <td>529128.38</td>\n",
       "    </tr>\n",
       "    <tr>\n",
       "      <th>700630</th>\n",
       "      <td>NaN</td>\n",
       "      <td>155559.79</td>\n",
       "    </tr>\n",
       "    <tr>\n",
       "      <th>700631</th>\n",
       "      <td>NaN</td>\n",
       "      <td>5240153.03</td>\n",
       "    </tr>\n",
       "    <tr>\n",
       "      <th>700632</th>\n",
       "      <td>154800.00</td>\n",
       "      <td>NaN</td>\n",
       "    </tr>\n",
       "    <tr>\n",
       "      <th>700633</th>\n",
       "      <td>NaN</td>\n",
       "      <td>4736845.00</td>\n",
       "    </tr>\n",
       "    <tr>\n",
       "      <th>700638</th>\n",
       "      <td>NaN</td>\n",
       "      <td>265821.00</td>\n",
       "    </tr>\n",
       "    <tr>\n",
       "      <th>700651</th>\n",
       "      <td>526106.84</td>\n",
       "      <td>NaN</td>\n",
       "    </tr>\n",
       "    <tr>\n",
       "      <th>700653</th>\n",
       "      <td>4210526.32</td>\n",
       "      <td>NaN</td>\n",
       "    </tr>\n",
       "    <tr>\n",
       "      <th>700660</th>\n",
       "      <td>NaN</td>\n",
       "      <td>1322723.09</td>\n",
       "    </tr>\n",
       "    <tr>\n",
       "      <th>700663</th>\n",
       "      <td>NaN</td>\n",
       "      <td>233751.46</td>\n",
       "    </tr>\n",
       "    <tr>\n",
       "      <th>700671</th>\n",
       "      <td>309300.00</td>\n",
       "      <td>NaN</td>\n",
       "    </tr>\n",
       "    <tr>\n",
       "      <th>700680</th>\n",
       "      <td>541214.98</td>\n",
       "      <td>NaN</td>\n",
       "    </tr>\n",
       "    <tr>\n",
       "      <th>700714</th>\n",
       "      <td>NaN</td>\n",
       "      <td>18150050.75</td>\n",
       "    </tr>\n",
       "    <tr>\n",
       "      <th>700731</th>\n",
       "      <td>NaN</td>\n",
       "      <td>319958.39</td>\n",
       "    </tr>\n",
       "    <tr>\n",
       "      <th>...</th>\n",
       "      <td>...</td>\n",
       "      <td>...</td>\n",
       "    </tr>\n",
       "    <tr>\n",
       "      <th>902438</th>\n",
       "      <td>1080000.00</td>\n",
       "      <td>NaN</td>\n",
       "    </tr>\n",
       "    <tr>\n",
       "      <th>902439</th>\n",
       "      <td>1931479.56</td>\n",
       "      <td>NaN</td>\n",
       "    </tr>\n",
       "    <tr>\n",
       "      <th>902440</th>\n",
       "      <td>1753467.00</td>\n",
       "      <td>NaN</td>\n",
       "    </tr>\n",
       "    <tr>\n",
       "      <th>902441</th>\n",
       "      <td>485000.00</td>\n",
       "      <td>NaN</td>\n",
       "    </tr>\n",
       "    <tr>\n",
       "      <th>902442</th>\n",
       "      <td>299276.00</td>\n",
       "      <td>NaN</td>\n",
       "    </tr>\n",
       "    <tr>\n",
       "      <th>902443</th>\n",
       "      <td>290000.00</td>\n",
       "      <td>NaN</td>\n",
       "    </tr>\n",
       "    <tr>\n",
       "      <th>902444</th>\n",
       "      <td>289000.00</td>\n",
       "      <td>NaN</td>\n",
       "    </tr>\n",
       "    <tr>\n",
       "      <th>902445</th>\n",
       "      <td>290000.00</td>\n",
       "      <td>NaN</td>\n",
       "    </tr>\n",
       "    <tr>\n",
       "      <th>902446</th>\n",
       "      <td>290000.00</td>\n",
       "      <td>NaN</td>\n",
       "    </tr>\n",
       "    <tr>\n",
       "      <th>902447</th>\n",
       "      <td>1000000.00</td>\n",
       "      <td>NaN</td>\n",
       "    </tr>\n",
       "    <tr>\n",
       "      <th>902448</th>\n",
       "      <td>288000.00</td>\n",
       "      <td>NaN</td>\n",
       "    </tr>\n",
       "    <tr>\n",
       "      <th>902449</th>\n",
       "      <td>299277.00</td>\n",
       "      <td>NaN</td>\n",
       "    </tr>\n",
       "    <tr>\n",
       "      <th>902450</th>\n",
       "      <td>298095.10</td>\n",
       "      <td>NaN</td>\n",
       "    </tr>\n",
       "    <tr>\n",
       "      <th>902451</th>\n",
       "      <td>290000.00</td>\n",
       "      <td>NaN</td>\n",
       "    </tr>\n",
       "    <tr>\n",
       "      <th>902452</th>\n",
       "      <td>294806.00</td>\n",
       "      <td>NaN</td>\n",
       "    </tr>\n",
       "    <tr>\n",
       "      <th>902453</th>\n",
       "      <td>4705000.00</td>\n",
       "      <td>NaN</td>\n",
       "    </tr>\n",
       "    <tr>\n",
       "      <th>902454</th>\n",
       "      <td>250000.00</td>\n",
       "      <td>NaN</td>\n",
       "    </tr>\n",
       "    <tr>\n",
       "      <th>902455</th>\n",
       "      <td>291000.00</td>\n",
       "      <td>NaN</td>\n",
       "    </tr>\n",
       "    <tr>\n",
       "      <th>902456</th>\n",
       "      <td>969716.16</td>\n",
       "      <td>NaN</td>\n",
       "    </tr>\n",
       "    <tr>\n",
       "      <th>902457</th>\n",
       "      <td>501050.58</td>\n",
       "      <td>NaN</td>\n",
       "    </tr>\n",
       "    <tr>\n",
       "      <th>902458</th>\n",
       "      <td>490726.08</td>\n",
       "      <td>NaN</td>\n",
       "    </tr>\n",
       "    <tr>\n",
       "      <th>902459</th>\n",
       "      <td>240000.00</td>\n",
       "      <td>NaN</td>\n",
       "    </tr>\n",
       "    <tr>\n",
       "      <th>902460</th>\n",
       "      <td>490000.00</td>\n",
       "      <td>NaN</td>\n",
       "    </tr>\n",
       "    <tr>\n",
       "      <th>902466</th>\n",
       "      <td>388205.00</td>\n",
       "      <td>NaN</td>\n",
       "    </tr>\n",
       "    <tr>\n",
       "      <th>902468</th>\n",
       "      <td>5050000.00</td>\n",
       "      <td>NaN</td>\n",
       "    </tr>\n",
       "    <tr>\n",
       "      <th>902470</th>\n",
       "      <td>7608000.00</td>\n",
       "      <td>NaN</td>\n",
       "    </tr>\n",
       "    <tr>\n",
       "      <th>902471</th>\n",
       "      <td>5806000.00</td>\n",
       "      <td>NaN</td>\n",
       "    </tr>\n",
       "    <tr>\n",
       "      <th>902472</th>\n",
       "      <td>4605000.00</td>\n",
       "      <td>NaN</td>\n",
       "    </tr>\n",
       "    <tr>\n",
       "      <th>902473</th>\n",
       "      <td>5806000.00</td>\n",
       "      <td>NaN</td>\n",
       "    </tr>\n",
       "    <tr>\n",
       "      <th>902474</th>\n",
       "      <td>1800000.00</td>\n",
       "      <td>NaN</td>\n",
       "    </tr>\n",
       "  </tbody>\n",
       "</table>\n",
       "<p>93892 rows × 2 columns</p>\n",
       "</div>"
      ],
      "text/plain": [
       "ATRASADA            0.0          1.0\n",
       "NR_CONVENIO                         \n",
       "700359              NaN  18969101.28\n",
       "700422       2310707.28          NaN\n",
       "700490              NaN    679616.99\n",
       "700491              NaN    213409.71\n",
       "700494              NaN    154640.00\n",
       "700496              NaN    103744.00\n",
       "700497              NaN    268387.89\n",
       "700513        353535.35          NaN\n",
       "700516        404040.40          NaN\n",
       "700518              NaN    422640.99\n",
       "700525              NaN  24328235.45\n",
       "700534              NaN    206938.36\n",
       "700555        435982.00          NaN\n",
       "700558              NaN    149878.00\n",
       "700617        105000.00          NaN\n",
       "700626        421052.63          NaN\n",
       "700627              NaN    529128.38\n",
       "700630              NaN    155559.79\n",
       "700631              NaN   5240153.03\n",
       "700632        154800.00          NaN\n",
       "700633              NaN   4736845.00\n",
       "700638              NaN    265821.00\n",
       "700651        526106.84          NaN\n",
       "700653       4210526.32          NaN\n",
       "700660              NaN   1322723.09\n",
       "700663              NaN    233751.46\n",
       "700671        309300.00          NaN\n",
       "700680        541214.98          NaN\n",
       "700714              NaN  18150050.75\n",
       "700731              NaN    319958.39\n",
       "...                 ...          ...\n",
       "902438       1080000.00          NaN\n",
       "902439       1931479.56          NaN\n",
       "902440       1753467.00          NaN\n",
       "902441        485000.00          NaN\n",
       "902442        299276.00          NaN\n",
       "902443        290000.00          NaN\n",
       "902444        289000.00          NaN\n",
       "902445        290000.00          NaN\n",
       "902446        290000.00          NaN\n",
       "902447       1000000.00          NaN\n",
       "902448        288000.00          NaN\n",
       "902449        299277.00          NaN\n",
       "902450        298095.10          NaN\n",
       "902451        290000.00          NaN\n",
       "902452        294806.00          NaN\n",
       "902453       4705000.00          NaN\n",
       "902454        250000.00          NaN\n",
       "902455        291000.00          NaN\n",
       "902456        969716.16          NaN\n",
       "902457        501050.58          NaN\n",
       "902458        490726.08          NaN\n",
       "902459        240000.00          NaN\n",
       "902460        490000.00          NaN\n",
       "902466        388205.00          NaN\n",
       "902468       5050000.00          NaN\n",
       "902470       7608000.00          NaN\n",
       "902471       5806000.00          NaN\n",
       "902472       4605000.00          NaN\n",
       "902473       5806000.00          NaN\n",
       "902474       1800000.00          NaN\n",
       "\n",
       "[93892 rows x 2 columns]"
      ]
     },
     "execution_count": 32,
     "metadata": {},
     "output_type": "execute_result"
    }
   ],
   "source": [
    "df1.pivot_table(index='NR_CONVENIO',columns='ATRASADA',values='VL_GLOBAL_CONV')"
   ]
  },
  {
   "cell_type": "code",
   "execution_count": null,
   "metadata": {},
   "outputs": [],
   "source": []
  },
  {
   "cell_type": "code",
   "execution_count": null,
   "metadata": {},
   "outputs": [],
   "source": []
  },
  {
   "cell_type": "code",
   "execution_count": null,
   "metadata": {},
   "outputs": [],
   "source": []
  }
 ],
 "metadata": {
  "kernelspec": {
   "display_name": "Python 3",
   "language": "python",
   "name": "python3"
  }
 },
 "nbformat": 4,
 "nbformat_minor": 2
}
